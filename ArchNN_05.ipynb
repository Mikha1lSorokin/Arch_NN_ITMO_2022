{
  "cells": [
    {
      "cell_type": "markdown",
      "metadata": {
        "id": "KwTBw7T50FIM"
      },
      "source": [
        "## Arch_NN. Autumn 2022.\n",
        "### TASK 5. Sorokin Mikhail group J42322c."
      ]
    },
    {
      "cell_type": "markdown",
      "metadata": {
        "id": "oeLVVwf90Qk-"
      },
      "source": [
        "# Walker2D\n",
        "\n",
        "You aim in this task is to train the agent to win in Walker2D game with Actor-Critic, Advantage Actor Critic (A2C), Trust-region Policy Optimization (TRPO) or Proximal Policy Optimization (PPO). \n",
        "To solve the task feel free to transform the state and reward from the environment.\n",
        "\n",
        "**Scoring**: Calculating the average reward for 50 episodes. You goal is to gain more than 1000 points.\n",
        "\n",
        "**Submission format**: send you notebook and trained model in **zipped** folder.\n"
      ]
    },
    {
      "cell_type": "code",
      "execution_count": 6,
      "metadata": {
        "colab": {
          "base_uri": "https://localhost:8080/"
        },
        "id": "2VpXiFO6y7h3",
        "outputId": "c0f63e3b-5ea2-47d2-82c0-d61cfdf5bce2"
      },
      "outputs": [],
      "source": [
        "import pybullet_envs\n",
        "from gym import make\n",
        "import numpy as np\n",
        "import torch\n",
        "from torch import nn\n",
        "from torch.distributions import Normal\n",
        "from torch.nn import functional as F\n",
        "from torch.optim import Adam\n",
        "import random\n",
        "import os"
      ]
    },
    {
      "cell_type": "code",
      "execution_count": 7,
      "metadata": {},
      "outputs": [
        {
          "data": {
            "text/plain": [
              "device(type='cuda')"
            ]
          },
          "execution_count": 7,
          "metadata": {},
          "output_type": "execute_result"
        }
      ],
      "source": [
        "device = torch.device(\"cuda\" if torch.cuda.is_available() else \"cpu\")\n",
        "device"
      ]
    },
    {
      "cell_type": "code",
      "execution_count": 8,
      "metadata": {},
      "outputs": [],
      "source": [
        "torch.set_default_tensor_type(torch.cuda.FloatTensor)"
      ]
    },
    {
      "attachments": {},
      "cell_type": "markdown",
      "metadata": {},
      "source": [
        "# Train"
      ]
    },
    {
      "cell_type": "code",
      "execution_count": 9,
      "metadata": {
        "id": "VxS-adVZzDLx"
      },
      "outputs": [],
      "source": [
        "ENV_NAME = \"Walker2DBulletEnv-v0\"\n",
        "\n",
        "LAMBDA = 0.95\n",
        "GAMMA = 0.99\n",
        "\n",
        "# With the default parameters I only managed to get ~700 reward from   \n",
        "# 1000 iters, so ACTOR_LR, CRITIC_LR, BATCHES_PER_UPDATE are changed:\n",
        "ACTOR_LR = 0.00004\n",
        "CRITIC_LR = 0.00002\n",
        "\n",
        "CLIP = 0.2\n",
        "ENTROPY_COEF = 1e-2\n",
        "BATCHES_PER_UPDATE = 2048\n",
        "BATCH_SIZE = 64\n",
        "\n",
        "MIN_TRANSITIONS_PER_UPDATE = 2048\n",
        "MIN_EPISODES_PER_UPDATE = 4\n",
        "\n",
        "ITERATIONS = 1000\n",
        "\n",
        "    \n",
        "def compute_lambda_returns_and_gae(trajectory):\n",
        "    lambda_returns = []\n",
        "    gae = []\n",
        "    last_lr = 0.\n",
        "    last_v = 0.\n",
        "    for _, _, r, _, v in reversed(trajectory):\n",
        "        ret = r + GAMMA * (last_v * (1 - LAMBDA) + last_lr * LAMBDA)\n",
        "        last_lr = ret\n",
        "        last_v = v\n",
        "        lambda_returns.append(last_lr)\n",
        "        gae.append(last_lr - v)\n",
        "    \n",
        "    # Each transition contains state, action, old action probability, value estimation and advantage estimation\n",
        "    return [(s, a, p, v, adv) for (s, a, _, p, _), v, adv in zip(trajectory, reversed(lambda_returns), reversed(gae))]\n",
        "    \n",
        "\n",
        "\n",
        "class Actor(nn.Module):\n",
        "    def __init__(self, state_dim, action_dim):\n",
        "        super().__init__()\n",
        "        ''' YOUR CODE HERE '''\n",
        "        self.model = nn.Sequential(nn.Linear(state_dim, 256),\n",
        "                                   nn.ELU(),\n",
        "                                   nn.Linear(256, 256),\n",
        "                                   nn.ELU(),\n",
        "                                   nn.Linear(256, action_dim)\n",
        "                                   )\n",
        "        # Advice: use same log_sigma for all states to improve stability\n",
        "        # You can do this by defining log_sigma as nn.Parameter(torch.zeros(...))\n",
        "        self.sigma = nn.Parameter(torch.ones(action_dim, device=device))\n",
        "\n",
        "    def compute_proba(self, state, action):\n",
        "        # Returns probability of action according to current policy and distribution of actions\n",
        "        ''' YOUR CODE HERE '''\n",
        "        mu = self.model(state)\n",
        "        sigma = torch.exp(self.sigma).unsqueeze(0).expand_as(mu)\n",
        "        distr = Normal(mu, sigma)\n",
        "        return torch.exp(distr.log_prob(action).sum(-1)), distr\n",
        "        \n",
        "    def act(self, state):\n",
        "        # Returns an action (with tanh), not-transformed action (without tanh) and distribution of non-transformed actions\n",
        "        # Remember: agent is not deterministic, sample actions from distribution (e.g. Gaussian)\n",
        "        ''' YOUR CODE HERE '''\n",
        "        mu = self.model(state)\n",
        "        sigma = torch.exp(self.sigma).unsqueeze(0).expand_as(mu)\n",
        "        distr = Normal(mu, sigma)\n",
        "        pure_action = distr.sample()\n",
        "        action = torch.tanh(pure_action)\n",
        "        return action, pure_action, distr\n",
        "        \n",
        "        \n",
        "class Critic(nn.Module):\n",
        "    def __init__(self, state_dim):\n",
        "        super().__init__()\n",
        "        self.model = nn.Sequential(\n",
        "            nn.Linear(state_dim, 256),\n",
        "            nn.ELU(),\n",
        "            nn.Linear(256, 256),\n",
        "            nn.ELU(),\n",
        "            nn.Linear(256, 1)\n",
        "        )\n",
        "        \n",
        "    def get_value(self, state):\n",
        "        return self.model(state)\n",
        "\n",
        "\n",
        "class PPO:\n",
        "    def __init__(self, state_dim, action_dim):\n",
        "        self.actor = Actor(state_dim, action_dim)\n",
        "        self.critic = Critic(state_dim)\n",
        "        self.actor_optim = Adam(self.actor.parameters(), ACTOR_LR)\n",
        "        self.critic_optim = Adam(self.critic.parameters(), CRITIC_LR)\n",
        "\n",
        "    def update(self, trajectories):\n",
        "        transitions = [t for traj in trajectories for t in traj] # Turn a list of trajectories into list of transitions\n",
        "        state, action, old_prob, target_value, advantage = zip(*transitions)\n",
        "        state = np.array(state)\n",
        "        action = np.array(action)\n",
        "        old_prob = np.array(old_prob)\n",
        "        target_value = np.array(target_value)\n",
        "        advantage = np.array(advantage)\n",
        "        advnatage = (advantage - advantage.mean()) / (advantage.std() + 1e-8)\n",
        "        \n",
        "        \n",
        "        for _ in range(BATCHES_PER_UPDATE):\n",
        "            idx = np.random.randint(0, len(transitions), BATCH_SIZE) # Choose random batch\n",
        "            s = torch.tensor(state[idx], device=device).float()\n",
        "            a = torch.tensor(action[idx], device=device).float()\n",
        "            op = torch.tensor(old_prob[idx], device=device).float() # Probability of the action in state s.t. old policy\n",
        "            v = torch.tensor(target_value[idx], device=device).float() # Estimated by lambda-returns \n",
        "            adv = torch.tensor(advantage[idx], device=device).float() # Estimated by generalized advantage estimation \n",
        "            \n",
        "            ''' YOUR CODE HERE '''\n",
        "            # TODO: Update actor here            \n",
        "            # TODO: Update critic here\n",
        "            prob_new, distr = self.actor.compute_proba(s, a)\n",
        "            entropy = distr.entropy().mean()\n",
        "            ratio = prob_new / op\n",
        "            actor_loss = -torch.mean(torch.minimum(ratio * adv, torch.clip(ratio, 1 - CLIP, 1 + CLIP) * adv))\n",
        "            self.actor_optim.zero_grad()\n",
        "            actor_loss.backward()\n",
        "            self.actor_optim.step()           \n",
        "            \n",
        "            val = self.critic.get_value(s).flatten()\n",
        "            critic_loss = F.mse_loss(val, v)\n",
        "            self.critic_optim.zero_grad()\n",
        "            critic_loss.backward()\n",
        "            self.critic_optim.step()\n",
        "            \n",
        "    def get_value(self, state):\n",
        "        with torch.no_grad():\n",
        "            state = torch.tensor(np.array([state]), device=device).float()\n",
        "            value = self.critic.get_value(state)\n",
        "        return value.cpu().item()\n",
        "\n",
        "    def act(self, state):\n",
        "        with torch.no_grad():\n",
        "            state = torch.tensor(np.array([state]), device=device).float()\n",
        "            action, pure_action, distr = self.actor.act(state)\n",
        "            prob = torch.exp(distr.log_prob(pure_action).sum(-1))\n",
        "        return action.cpu().numpy()[0], pure_action.cpu().numpy()[0], prob.cpu().item()\n",
        "\n",
        "    def save(self):\n",
        "        torch.save(self.actor, \"agent.pkl\")\n",
        "\n",
        "\n",
        "def evaluate_policy(env, agent, episodes=5):\n",
        "    returns = []\n",
        "    for _ in range(episodes):\n",
        "        done = False\n",
        "        state = env.reset()\n",
        "        total_reward = 0.\n",
        "        \n",
        "        while not done:\n",
        "            state, reward, done, _ = env.step(agent.act(state)[0])\n",
        "            total_reward += reward\n",
        "        returns.append(total_reward)\n",
        "    return returns\n",
        "   \n",
        "\n",
        "def sample_episode(env, agent):\n",
        "    s = env.reset()\n",
        "    d = False\n",
        "    trajectory = []\n",
        "    while not d:\n",
        "        a, pa, p = agent.act(s)\n",
        "        v = agent.get_value(s)\n",
        "        ns, r, d, _ = env.step(a)\n",
        "        trajectory.append((s, pa, r, p, v))\n",
        "        s = ns\n",
        "    return compute_lambda_returns_and_gae(trajectory)"
      ]
    },
    {
      "cell_type": "code",
      "execution_count": 10,
      "metadata": {
        "colab": {
          "base_uri": "https://localhost:8080/",
          "height": 380
        },
        "id": "tqRiNu-Hz2vV",
        "outputId": "ed85ed8b-997e-47f5-fac5-1a70b190d83f"
      },
      "outputs": [
        {
          "name": "stdout",
          "output_type": "stream",
          "text": [
            "Step: 10, Reward mean: 26.261720153973727, Reward std: 12.911079193224099, Episodes: 1028, Steps: 20578\n",
            "Step: 20, Reward mean: 54.35861523681873, Reward std: 10.757852836691757, Episodes: 1327, Steps: 41569\n",
            "Step: 30, Reward mean: 59.662477453337054, Reward std: 4.253775994822421, Episodes: 1609, Steps: 62501\n",
            "Step: 40, Reward mean: 83.68429264024509, Reward std: 17.78381986583689, Episodes: 1881, Steps: 83342\n",
            "Step: 50, Reward mean: 99.0117590175342, Reward std: 14.094299651175609, Episodes: 2105, Steps: 104127\n",
            "Step: 60, Reward mean: 112.44725655775923, Reward std: 54.51788594763969, Episodes: 2282, Steps: 125281\n",
            "Step: 70, Reward mean: 146.08551028820747, Reward std: 26.928205123257076, Episodes: 2421, Steps: 147886\n",
            "Step: 80, Reward mean: 198.32204781502745, Reward std: 92.52114413051369, Episodes: 2551, Steps: 169621\n",
            "Step: 90, Reward mean: 145.36460915303235, Reward std: 31.140030535517923, Episodes: 2665, Steps: 191251\n",
            "Step: 100, Reward mean: 174.41408071441165, Reward std: 122.4963465463607, Episodes: 2775, Steps: 212943\n",
            "Step: 110, Reward mean: 392.58378563557943, Reward std: 333.174839499553, Episodes: 2872, Steps: 234876\n",
            "Step: 120, Reward mean: 313.65159648207094, Reward std: 260.53414728974076, Episodes: 2956, Steps: 259025\n",
            "Step: 130, Reward mean: 290.2881393132709, Reward std: 137.8697417419937, Episodes: 3039, Steps: 281475\n",
            "Step: 140, Reward mean: 341.12018294269336, Reward std: 217.53984106600367, Episodes: 3105, Steps: 303541\n",
            "Step: 150, Reward mean: 568.4470271999501, Reward std: 128.2489381367881, Episodes: 3168, Steps: 329521\n",
            "Step: 160, Reward mean: 452.26902867701057, Reward std: 309.69458487381877, Episodes: 3216, Steps: 355403\n",
            "Step: 170, Reward mean: 631.4398905346949, Reward std: 374.2842954162041, Episodes: 3267, Steps: 380140\n",
            "Step: 180, Reward mean: 861.9177616773759, Reward std: 375.60336058530584, Episodes: 3317, Steps: 404178\n",
            "Step: 190, Reward mean: 490.18609188584315, Reward std: 476.5653398256955, Episodes: 3364, Steps: 431015\n",
            "Step: 200, Reward mean: 576.0859306654078, Reward std: 448.91566933367903, Episodes: 3406, Steps: 458019\n",
            "Step: 210, Reward mean: 831.7630929925024, Reward std: 526.2767416420018, Episodes: 3449, Steps: 485681\n",
            "Step: 220, Reward mean: 795.9102008554073, Reward std: 614.8398880082659, Episodes: 3493, Steps: 511900\n",
            "Step: 230, Reward mean: 592.5941145982057, Reward std: 315.0050161615579, Episodes: 3537, Steps: 539359\n",
            "Step: 240, Reward mean: 856.4706054518305, Reward std: 559.33568900928, Episodes: 3577, Steps: 570035\n",
            "Step: 250, Reward mean: 911.138391861384, Reward std: 574.0393396926347, Episodes: 3618, Steps: 597728\n",
            "Step: 260, Reward mean: 1094.7128395907127, Reward std: 503.4125581198356, Episodes: 3661, Steps: 626704\n"
          ]
        }
      ],
      "source": [
        "env = make(ENV_NAME)\n",
        "ppo = PPO(state_dim=env.observation_space.shape[0], action_dim=env.action_space.shape[0])\n",
        "state = env.reset()\n",
        "episodes_sampled = 0\n",
        "steps_sampled = 0\n",
        "latest_reward = 0\n",
        "\n",
        "for i in range(ITERATIONS):\n",
        "    # Add a stop condition when a reward gets to 1000:\n",
        "    if latest_reward < 1000:\n",
        "        trajectories = []\n",
        "        steps_ctn = 0\n",
        "\n",
        "        while len(trajectories) < MIN_EPISODES_PER_UPDATE or steps_ctn < MIN_TRANSITIONS_PER_UPDATE:\n",
        "            traj = sample_episode(env, ppo)\n",
        "            steps_ctn += len(traj)\n",
        "            trajectories.append(traj)\n",
        "        episodes_sampled += len(trajectories)\n",
        "        steps_sampled += steps_ctn\n",
        "\n",
        "        ppo.update(trajectories)        \n",
        "\n",
        "        if (i + 1) % (ITERATIONS//100) == 0:\n",
        "            rewards = evaluate_policy(env, ppo, 5)\n",
        "            print(f\"Step: {i+1}, Reward mean: {np.mean(rewards)}, Reward std: {np.std(rewards)}, Episodes: {episodes_sampled}, Steps: {steps_sampled}\")\n",
        "            latest_reward = np.mean(rewards)\n",
        "            ppo.save()"
      ]
    },
    {
      "attachments": {},
      "cell_type": "markdown",
      "metadata": {},
      "source": [
        "# Agent"
      ]
    },
    {
      "cell_type": "code",
      "execution_count": 11,
      "metadata": {
        "id": "RsHecDER0BPv"
      },
      "outputs": [],
      "source": [
        "class Agent:\n",
        "    def __init__(self):\n",
        "        self.model = torch.load(__file__[:-8] + \"/agent.pkl\")\n",
        "        \n",
        "    def act(self, state):\n",
        "        with torch.no_grad():\n",
        "            state = torch.tensor(np.array(state)).float()\n",
        "            ''' YOUR CODE HERE '''\n",
        "            actions = self.model(state)\n",
        "            return np.argmax(actions.cpu().numpy())\n",
        "\n",
        "    def reset(self):\n",
        "        pass"
      ]
    }
  ],
  "metadata": {
    "colab": {
      "provenance": []
    },
    "kernelspec": {
      "display_name": "Python 3",
      "language": "python",
      "name": "python3"
    },
    "language_info": {
      "codemirror_mode": {
        "name": "ipython",
        "version": 3
      },
      "file_extension": ".py",
      "mimetype": "text/x-python",
      "name": "python",
      "nbconvert_exporter": "python",
      "pygments_lexer": "ipython3",
      "version": "3.9.0"
    },
    "vscode": {
      "interpreter": {
        "hash": "71ff87c67ba816b6af4ee8e83b06c07dc669ccb76fd16d8077dc452b70bfd898"
      }
    }
  },
  "nbformat": 4,
  "nbformat_minor": 0
}
